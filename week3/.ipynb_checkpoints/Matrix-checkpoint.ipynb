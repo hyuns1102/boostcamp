{
 "cells": [
  {
   "cell_type": "markdown",
   "id": "9e742fdd",
   "metadata": {},
   "source": [
    "#### 행렬의 곱셈\n",
    "\n",
    " i번째 행벡터와 j번째 열벡터 사이의 내적을 성분으로 가지는 행렬"
   ]
  },
  {
   "cell_type": "code",
   "execution_count": 1,
   "id": "e631b1d4",
   "metadata": {},
   "outputs": [],
   "source": [
    "import numpy as np"
   ]
  },
  {
   "cell_type": "code",
   "execution_count": 2,
   "id": "eb757b1c",
   "metadata": {},
   "outputs": [],
   "source": [
    "X = np.array([[1,-2,3],\n",
    "            [7,5,0],\n",
    "            [-2,-3,2]])"
   ]
  },
  {
   "cell_type": "code",
   "execution_count": 3,
   "id": "797491ee",
   "metadata": {},
   "outputs": [],
   "source": [
    "Y = np.array([[1,-2],\n",
    "            [7,5],\n",
    "            [-2,-3]])"
   ]
  },
  {
   "cell_type": "code",
   "execution_count": 4,
   "id": "6e0ec8d2",
   "metadata": {
    "scrolled": true
   },
   "outputs": [
    {
     "data": {
      "text/plain": [
       "array([[-19, -21],\n",
       "       [ 42,  11],\n",
       "       [-27, -17]])"
      ]
     },
     "execution_count": 4,
     "metadata": {},
     "output_type": "execute_result"
    }
   ],
   "source": [
    "X @ Y"
   ]
  },
  {
   "cell_type": "markdown",
   "id": "863faac6",
   "metadata": {},
   "source": [
    "#### 행렬의 내적\n",
    "\n",
    " np.inner은 i번째 행벡터와 j번째 행벡터 사이의 내적 성분  \n",
    " 수학에서 말하는 내적과 다르다.  \n",
    " X * (Y의 전치행렬)"
   ]
  },
  {
   "cell_type": "code",
   "execution_count": 11,
   "id": "3a5d7142",
   "metadata": {},
   "outputs": [],
   "source": [
    "X = np.array([[1,-2,3],\n",
    "            [7,5,0],\n",
    "            [-2,-3,2]])"
   ]
  },
  {
   "cell_type": "code",
   "execution_count": 12,
   "id": "c5fb6b02",
   "metadata": {},
   "outputs": [],
   "source": [
    "Y = np.array([[0, 1, -1],\n",
    "             [1, -1, 0]])"
   ]
  },
  {
   "cell_type": "code",
   "execution_count": 10,
   "id": "37e5eedd",
   "metadata": {},
   "outputs": [
    {
     "data": {
      "text/plain": [
       "array([[-5,  3],\n",
       "       [ 5,  2],\n",
       "       [-5,  1]])"
      ]
     },
     "execution_count": 10,
     "metadata": {},
     "output_type": "execute_result"
    }
   ],
   "source": [
    "np.inner(X, Y)"
   ]
  },
  {
   "cell_type": "markdown",
   "id": "26516c2f",
   "metadata": {},
   "source": [
    "####  행렬의 이해\n",
    "\n",
    " 행렬은 벡터 공간에서 __연산자__ 로 이해한다.  \n",
    " 행렬곱을 통해 벡터를 다른 차원의 공간으로 보낼 수 있다.  \n",
    " __패턴 추출 가능 & 데이터 압축 가능__  "
   ]
  },
  {
   "cell_type": "markdown",
   "id": "97f0818d",
   "metadata": {},
   "source": [
    "#### 역행렬\n",
    "\n",
    " A의 연산을 거꾸로 되돌리는 행렬을 __역행렬__ 이라 부른다.  \n",
    " 행과 열의 숫자가 같아야 하고 행렬식이 0이 아닌 경우에만 계산 가능"
   ]
  },
  {
   "cell_type": "code",
   "execution_count": 21,
   "id": "a71d648b",
   "metadata": {},
   "outputs": [
    {
     "data": {
      "text/plain": [
       "array([[ 0.21276596,  0.0212766 , -0.31914894],\n",
       "       [-0.29787234,  0.17021277,  0.44680851],\n",
       "       [ 0.06382979,  0.10638298,  0.40425532]])"
      ]
     },
     "execution_count": 21,
     "metadata": {},
     "output_type": "execute_result"
    }
   ],
   "source": [
    "X = np.array([[1,-2,3],\n",
    "              [7,5,0],\n",
    "             [-2,-1,2]])\n",
    "\n",
    "np.linalg.inv(X)"
   ]
  },
  {
   "cell_type": "code",
   "execution_count": 26,
   "id": "fd3d5067",
   "metadata": {},
   "outputs": [
    {
     "name": "stdout",
     "output_type": "stream",
     "text": [
      "[[ 1.00000000e+00 -1.38777878e-17  0.00000000e+00]\n",
      " [ 0.00000000e+00  1.00000000e+00  0.00000000e+00]\n",
      " [-2.77555756e-17  0.00000000e+00  1.00000000e+00]]\n"
     ]
    }
   ],
   "source": [
    "a = X @ np.linalg.inv(X)\n",
    "print(a)"
   ]
  },
  {
   "cell_type": "markdown",
   "id": "d9cd3de1",
   "metadata": {},
   "source": [
    "#### 역행렬\n",
    "\n",
    " 만일 역행렬을 계산할 수 없다면 __유사역행렬__ 또는 __무어-펜로즈 역행렬__ 을  \n",
    " 사용한다.  \n",
    " **행의 개수와 열의 개수의 대소에 따라 계산식이 달라진다.**  \n",
    " 행이 열보다 클 때는 유사 역행렬을 먼저 곱해준다.  \n",
    " 열이 행보다 클 때는 유사 역행렬을 뒤에 곱해준다.  "
   ]
  },
  {
   "cell_type": "code",
   "execution_count": 32,
   "id": "c69bba76",
   "metadata": {},
   "outputs": [
    {
     "name": "stdout",
     "output_type": "stream",
     "text": [
      "[[ 5.00000000e-01  1.11022302e-16 -5.00000000e-01]\n",
      " [ 8.33333333e-01 -3.33333333e-01 -1.66666667e-01]]\n",
      "\n",
      "[[ 1.00000000e+00 -2.22044605e-16]\n",
      " [ 1.11022302e-16  1.00000000e+00]]\n"
     ]
    }
   ],
   "source": [
    "Y = np.array([[0,1],\n",
    "              [1,-1],\n",
    "              [-2, 1]])\n",
    "\n",
    "b = np.linalg.pinv(Y)\n",
    "a = b @ Y\n",
    "print(b, end=\"\\n\\n\")\n",
    "print(a)"
   ]
  },
  {
   "cell_type": "markdown",
   "id": "c734a1f2",
   "metadata": {},
   "source": [
    "#### 유사역행렬\n",
    "\n",
    " 유사역행렬을 이용해서 연립 방정식의 해를 구할 수 있다."
   ]
  },
  {
   "cell_type": "markdown",
   "id": "7fd7aa3d",
   "metadata": {},
   "source": [
    "## 선형회귀분석"
   ]
  },
  {
   "cell_type": "code",
   "execution_count": 34,
   "id": "7e76c412",
   "metadata": {},
   "outputs": [
    {
     "ename": "ModuleNotFoundError",
     "evalue": "No module named 'sklearn'",
     "output_type": "error",
     "traceback": [
      "\u001b[1;31m----------------------------------------------------------------------\u001b[0m",
      "\u001b[1;31mModuleNotFoundError\u001b[0m                  Traceback (most recent call last)",
      "\u001b[1;32m<ipython-input-34-6b86fc3c386d>\u001b[0m in \u001b[0;36m<module>\u001b[1;34m\u001b[0m\n\u001b[0;32m      1\u001b[0m \u001b[1;31m# Scikit Learn 을 활용한 회귀 분석\u001b[0m\u001b[1;33m\u001b[0m\u001b[1;33m\u001b[0m\u001b[1;33m\u001b[0m\u001b[0m\n\u001b[1;32m----> 2\u001b[1;33m \u001b[1;32mfrom\u001b[0m \u001b[0msklearn\u001b[0m\u001b[1;33m.\u001b[0m\u001b[0mlinear_model\u001b[0m \u001b[1;32mimport\u001b[0m \u001b[0mLinearRegression\u001b[0m\u001b[1;33m\u001b[0m\u001b[1;33m\u001b[0m\u001b[0m\n\u001b[0m\u001b[0;32m      3\u001b[0m \u001b[0mmodel\u001b[0m \u001b[1;33m=\u001b[0m \u001b[0mLinearRegression\u001b[0m\u001b[1;33m(\u001b[0m\u001b[1;33m)\u001b[0m\u001b[1;33m\u001b[0m\u001b[1;33m\u001b[0m\u001b[0m\n\u001b[0;32m      4\u001b[0m \u001b[0mmodel\u001b[0m\u001b[1;33m.\u001b[0m\u001b[0mfit\u001b[0m\u001b[1;33m(\u001b[0m\u001b[0mX\u001b[0m\u001b[1;33m,\u001b[0m\u001b[0my\u001b[0m\u001b[1;33m)\u001b[0m\u001b[1;33m\u001b[0m\u001b[1;33m\u001b[0m\u001b[0m\n\u001b[0;32m      5\u001b[0m \u001b[0my_test\u001b[0m \u001b[1;33m=\u001b[0m \u001b[0mmodel\u001b[0m\u001b[1;33m.\u001b[0m\u001b[0mpredict\u001b[0m\u001b[1;33m(\u001b[0m\u001b[0mx_test\u001b[0m\u001b[1;33m)\u001b[0m\u001b[1;33m\u001b[0m\u001b[1;33m\u001b[0m\u001b[0m\n",
      "\u001b[1;31mModuleNotFoundError\u001b[0m: No module named 'sklearn'"
     ]
    }
   ],
   "source": [
    "# Scikit Learn 을 활용한 회귀 분석\n",
    "from sklearn.linear_model import LinearRegression\n",
    "model = LinearRegression()\n",
    "model.fit(X,y)\n",
    "y_test = model.predict(x_test)\n",
    "\n",
    "# Moore-Penrose 역행렬\n",
    "X_ = np.array([np.append(x,[1]) for x  in X])\n",
    "beta = np.linalg.pinv(X_) @ y\n",
    "y_test = np.append(x,[1]) @ beta"
   ]
  },
  {
   "cell_type": "code",
   "execution_count": null,
   "id": "6c375934",
   "metadata": {},
   "outputs": [],
   "source": []
  }
 ],
 "metadata": {
  "kernelspec": {
   "display_name": "Python 3",
   "language": "python",
   "name": "python3"
  },
  "language_info": {
   "codemirror_mode": {
    "name": "ipython",
    "version": 3
   },
   "file_extension": ".py",
   "mimetype": "text/x-python",
   "name": "python",
   "nbconvert_exporter": "python",
   "pygments_lexer": "ipython3",
   "version": "3.9.1"
  }
 },
 "nbformat": 4,
 "nbformat_minor": 5
}
