{
 "cells": [
  {
   "cell_type": "markdown",
   "id": "5bad121c",
   "metadata": {},
   "source": [
    "## Iterable Objects"
   ]
  },
  {
   "cell_type": "code",
   "execution_count": 1,
   "id": "7eb72d7f",
   "metadata": {},
   "outputs": [
    {
     "name": "stdout",
     "output_type": "stream",
     "text": [
      "['Seoul', 'Busan', 'Jeju']\n",
      "<list_iterator object at 0x000002D5F9F88FA0>\n",
      "Seoul\n",
      "Busan\n",
      "Jeju\n"
     ]
    }
   ],
   "source": [
    "cities = [\"Seoul\", \"Busan\", \"Jeju\"]\n",
    "print(cities)\n",
    "\n",
    "memory_address_cities = iter(cities)\n",
    "print(memory_address_cities)\n",
    "print(next(memory_address_cities))\n",
    "print(next(memory_address_cities))\n",
    "print(next(memory_address_cities))"
   ]
  },
  {
   "cell_type": "markdown",
   "id": "55775744",
   "metadata": {},
   "source": [
    "## Generator "
   ]
  },
  {
   "cell_type": "code",
   "execution_count": 2,
   "id": "9f8c914e",
   "metadata": {
    "scrolled": true
   },
   "outputs": [
    {
     "name": "stdout",
     "output_type": "stream",
     "text": [
      "[0, 1, 2, 3, 4, 5, 6, 7, 8, 9, 10, 11, 12, 13, 14, 15, 16, 17, 18, 19, 20, 21, 22, 23, 24, 25, 26, 27, 28, 29, 30, 31, 32, 33, 34, 35, 36, 37, 38, 39, 40, 41, 42, 43, 44, 45, 46, 47, 48, 49]\n",
      "472\n",
      "\n",
      "<generator object generator_list at 0x000002D5F9FC33C0>\n",
      "[0, 1, 2, 3, 4, 5, 6, 7, 8, 9, 10, 11, 12, 13, 14, 15, 16, 17, 18, 19, 20, 21, 22, 23, 24, 25, 26, 27, 28, 29, 30, 31, 32, 33, 34, 35, 36, 37, 38, 39, 40, 41, 42, 43, 44, 45, 46, 47, 48, 49]\n",
      "112\n"
     ]
    }
   ],
   "source": [
    "import sys\n",
    "\n",
    "def general_list(value):\n",
    "    result = []\n",
    "    for i in range(value):\n",
    "        result.append(i)\n",
    "    return result\n",
    "print(general_list(50))\n",
    "print(sys.getsizeof(general_list(50)))\n",
    "\n",
    "print()\n",
    "\n",
    "def generator_list(value):\n",
    "    result = []\n",
    "    for i in range(value):\n",
    "        yield i\n",
    "  \n",
    "print(generator_list(50)) #yield 때문에 생긴 것 같다. 필요할 때 출력할 수 있도록 한다.\n",
    "print([a for a in generator_list(50)])\n",
    "print(sys.getsizeof(generator_list(50)))"
   ]
  },
  {
   "cell_type": "code",
   "execution_count": 3,
   "id": "74ce731a",
   "metadata": {},
   "outputs": [
    {
     "name": "stdout",
     "output_type": "stream",
     "text": [
      "<class 'list'>\n",
      "[0, 1, 4, 9, 16, 25, 36, 49, 64, 81, 100, 121, 144, 169, 196, 225, 256, 289, 324, 361, 400, 441, 484, 529, 576, 625, 676, 729, 784, 841, 900, 961, 1024, 1089, 1156, 1225, 1296, 1369, 1444, 1521, 1600, 1681, 1764, 1849, 1936, 2025, 2116, 2209, 2304, 2401]\n",
      "\n",
      "<class 'generator'>\n",
      "<generator object <genexpr> at 0x000002D5F9FC3040>\n",
      "[0, 1, 4, 9, 16, 25, 36, 49, 64, 81, 100, 121, 144, 169, 196, 225, 256, 289, 324, 361, 400, 441, 484, 529, 576, 625, 676, 729, 784, 841, 900, 961, 1024, 1089, 1156, 1225, 1296, 1369, 1444, 1521, 1600, 1681, 1764, 1849, 1936, 2025, 2116, 2209, 2304, 2401]\n",
      "\n"
     ]
    }
   ],
   "source": [
    "#generator comprehension\n",
    "nom_ex = [i*i for i in range(50)]\n",
    "print(type(nom_ex))\n",
    "print(nom_ex)\n",
    "print()\n",
    "gen_ex = (i*i for i in range(50))\n",
    "print(type(gen_ex))\n",
    "print(gen_ex)\n",
    "print(list(gen_ex))\n",
    "print()\n"
   ]
  },
  {
   "cell_type": "markdown",
   "id": "c8397547",
   "metadata": {},
   "source": [
    "## Keyword arguments"
   ]
  },
  {
   "cell_type": "code",
   "execution_count": 4,
   "id": "4bef0e07",
   "metadata": {},
   "outputs": [
    {
     "name": "stdout",
     "output_type": "stream",
     "text": [
      "Hello mina, My name is hyunsoo\n",
      "Hello hie, My name is hi\n"
     ]
    }
   ],
   "source": [
    "def print_something(my_name, your_name, third_name):\n",
    "    print(\"Hello {0}, My name is {1}\".format(your_name, my_name))\n",
    "    \n",
    "print_something(third_name=\"abc\", my_name = \"hyunsoo\", your_name = \"mina\")\n",
    "print_something(\"hi\", \"hie\",\"bay\")"
   ]
  },
  {
   "cell_type": "markdown",
   "id": "d87839e2",
   "metadata": {},
   "source": [
    "## Default arguments"
   ]
  },
  {
   "cell_type": "code",
   "execution_count": 5,
   "id": "a42c8826",
   "metadata": {},
   "outputs": [
    {
     "name": "stdout",
     "output_type": "stream",
     "text": [
      "Hello naver, My name is hi\n"
     ]
    }
   ],
   "source": [
    "def print_something_2(my_name, your_name=\"hihi\"):\n",
    "    print(\"Hello {0}, My name is {1}\".format(your_name, my_name))\n",
    "    \n",
    "print_something_2(\"hi\", \"naver\")"
   ]
  },
  {
   "cell_type": "markdown",
   "id": "1658897d",
   "metadata": {},
   "source": [
    "## variable-length asterisk "
   ]
  },
  {
   "cell_type": "code",
   "execution_count": 6,
   "id": "df9cdc17",
   "metadata": {},
   "outputs": [
    {
     "name": "stdout",
     "output_type": "stream",
     "text": [
      "[3, 4, 5]\n",
      "<class 'tuple'>\n",
      "1 2 3\n"
     ]
    }
   ],
   "source": [
    "def asterisk_test(a, b, *args):\n",
    "    print(list(args))\n",
    "    print(type(args))\n",
    "    \n",
    "def asterisk_test_2(*args):\n",
    "    a,b,c = args\n",
    "    print(a,b,c)\n",
    "    \n",
    "asterisk_test(1,2,3,4,5)\n",
    "asterisk_test_2(1,2,3)"
   ]
  },
  {
   "cell_type": "markdown",
   "id": "5db4ef2b",
   "metadata": {},
   "source": [
    "## Keyword variable-length "
   ]
  },
  {
   "cell_type": "code",
   "execution_count": 7,
   "id": "141bd2dd",
   "metadata": {},
   "outputs": [
    {
     "name": "stdout",
     "output_type": "stream",
     "text": [
      "{'first': 3, 'second': 4, 'third': 5}\n",
      "<class 'dict'>\n",
      "First value is 3\n",
      "Second value is 4\n",
      "Third value is 5\n"
     ]
    }
   ],
   "source": [
    "def kwargs_test_1(**kwargs):\n",
    "    print(kwargs)\n",
    "    print(type(kwargs))\n",
    "    \n",
    "    print(\"First value is {first}\".format(**kwargs))\n",
    "    print(\"Second value is {second}\".format(**kwargs))\n",
    "    print(\"Third value is {third}\".format(**kwargs))\n",
    "    \n",
    "kwargs_test_1(first=3, second=4, third=5)"
   ]
  },
  {
   "cell_type": "code",
   "execution_count": 8,
   "id": "9c74b22e",
   "metadata": {},
   "outputs": [
    {
     "name": "stdout",
     "output_type": "stream",
     "text": [
      "65\n",
      "(3, 4, 5, 6, 7)\n",
      "{'first': 1, 'second': 2, 'third': 3}\n"
     ]
    }
   ],
   "source": [
    "def kwargs_test_2(one, two=3,*args, **kwargs):\n",
    "    print(one+two+sum(args))\n",
    "    print(args)\n",
    "    print(kwargs)\n",
    "    \n",
    "kwargs_test_2(10,30, 3,4,5,6,7, first=1, second=2, third=3)"
   ]
  },
  {
   "cell_type": "markdown",
   "id": "bdb2254d",
   "metadata": {},
   "source": [
    "## asterisk - unpacking container"
   ]
  },
  {
   "cell_type": "code",
   "execution_count": 9,
   "id": "e0ae6f8f",
   "metadata": {},
   "outputs": [
    {
     "name": "stdout",
     "output_type": "stream",
     "text": [
      "1 2 3 4 5 6\n",
      "[2, 3, 4, 5, 6]\n",
      "1 (2, 3, 4, 5, 6)\n",
      "<class 'tuple'>\n"
     ]
    }
   ],
   "source": [
    "def asterisk_test(a, *args):\n",
    "    print(a, *args)\n",
    "    print([i for i in list(args)])\n",
    "    print(a, args)\n",
    "    print(type(args) )\n",
    "\n",
    "test = [2,3,4,5,6]\n",
    "asterisk_test(1, *test) # packing을 풀어준다."
   ]
  },
  {
   "cell_type": "code",
   "execution_count": 46,
   "id": "1f4254b8",
   "metadata": {},
   "outputs": [
    {
     "name": "stdout",
     "output_type": "stream",
     "text": [
      "10 1 2 3\n",
      "\n",
      "([1, 2],)\n",
      "([2, 3],)\n",
      "([3, 4],)\n",
      "([5, 6],)\n",
      "(1, 2, 3, 5)\n",
      "(2, 3, 4, 6)\n"
     ]
    }
   ],
   "source": [
    "#unpacking container -with dict\n",
    "\n",
    "def asterisk_test(a,b,c,d):\n",
    "    print(a,b,c,d)\n",
    "\n",
    "\n",
    "data = {\"b\":1, \"c\":2, \"d\":3}\n",
    "asterisk_test(10, **data)\n",
    "print()\n",
    "\n",
    "#unpacking container -with zip\n",
    "\n",
    "ex = ([1,2], [2,3],[3,4],[5,6])\n",
    "li = []\n",
    "ex_1 = [1,2,3,4,5]\n",
    "for i in zip(ex):\n",
    "    print(i)\n",
    "for i in zip(*ex):\n",
    "    print(i)"
   ]
  },
  {
   "cell_type": "code",
   "execution_count": null,
   "id": "61408100",
   "metadata": {},
   "outputs": [],
   "source": []
  }
 ],
 "metadata": {
  "kernelspec": {
   "display_name": "Python 3",
   "language": "python",
   "name": "python3"
  },
  "language_info": {
   "codemirror_mode": {
    "name": "ipython",
    "version": 3
   },
   "file_extension": ".py",
   "mimetype": "text/x-python",
   "name": "python",
   "nbconvert_exporter": "python",
   "pygments_lexer": "ipython3",
   "version": "3.9.1"
  }
 },
 "nbformat": 4,
 "nbformat_minor": 5
}
