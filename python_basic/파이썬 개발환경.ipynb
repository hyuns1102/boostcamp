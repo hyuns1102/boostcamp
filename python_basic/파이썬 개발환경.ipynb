{
 "cells": [
  {
   "cell_type": "markdown",
   "id": "0be60e2b",
   "metadata": {},
   "source": [
    "## AI - precourse\n",
    "\n",
    "### 파이썬? \n",
    "\n",
    "#### 특징\n",
    "\n",
    "1. 플랫폼 독립적인 인터프리터 언어  \n",
    "\n",
    "    - 플랫폼 = OS ( 운영체제 ) \n",
    "    - 독립적인 = 운영체제에 상관없이 한번 프로그램을 작성하면 사용 가능 ( 운영체제에 독립적인 언어 )\n",
    "    - 인터프리터 = 별도의 번역과정 없이 소스코드를 실행시점에 해석하여 컴퓨터가 처리할 수 있도록 한다.\n",
    "\n",
    "        |컴파일러|\t\t|인터프리터|  \n",
    "        |:---:|:---:|:---:|\n",
    "        |소스코드를 기계어로 먼저 번역,해당 플랫폼에 최적화되어 프로그램을 실행.|\t작동 방식\t|별도의 번역과정 없이 소스코드를 실행시점에 해석하여 컴퓨터가 처리할 수 있도록 함.|\n",
    "        |실행속도가 빠름  한번의 많은 기억장소 필요|장점  단점| 간단히 작성, 메모리가 적게 필요  실행속도가 느림|\n",
    "        |C, 자바, C++, C#| 주요 언어|파이썬, 스칼라|\n",
    "\n",
    "\n",
    "2. 객체 지향 동적타이핑 언어\n",
    "- 객체 지향적 언어 = 실행 순서가 아닌 단위 모듈(객체) 중심으로 프로그램을 작성  \n",
    "하나의 객체는 어떤 목적을 달성하기 위한 행동(method)와 속성(attribute)을 갖고 있음\n",
    "- 동적 타이핑 언어 = 프로그램이 실행하는 시점에 프로그램이 사용해야할 데이터에 대한 타입을 결정함.\n",
    "\n",
    "<br>\n",
    "\n",
    "#### 코드편집기\n",
    "\n",
    "1. 메모장 : 윈도우의 기본 문서 편집도구\n",
    "2. VI editor : 리눅스의 기본 문서 편집도구\n",
    "3. Sublime Text / Atom / VS Code : 프로그래밍에 특화된 문서 편집 도구\n",
    "4. PyCharm : 다양한 기능을 갖춘 파이썬 전용 개발 도구\n",
    "\n",
    "두가지 타입이 존재 - 1) 설치된 어플리케이션 2) 웹 기반 인터렉티브 편집기  \n",
    "Type1 - Python : Anaconda + VS Code\n",
    "Type2 - Data analysis + DL : Jupyter + colab\n",
    "\n",
    "Jupyter & Colab\n",
    "\n",
    "파이썬의 기본 실행 환경 : Python shell, 코드 편집 도구  \n",
    "Python shell : __cmd -> conda activate base -> python__  \n",
    "이 가상환경 (shell) 내에서 이용할 수 있다.  \n",
    "\n",
    "이 환경을 합쳐보자! Jupyter  \n",
    "- Ipython 커널을 기반으로 한 대화형 파이썬 셸 \n",
    "- 일반적인 터미널 셸 + 웹 기반 데이터 분석 Notebook 제공\n",
    "- ‘문서’로 표현 가능(보고서, MarkDown.. )\n",
    "- 사실상 데이터 분석 Interactive Shell의 표준\n",
    "\n",
    "shell을 실행한다는 것은 ? 메모리에 올라간다 !\n",
    "\n",
    "Colab\n",
    "- 구글이 개발 클라우드 기반의 jupter notebook\n",
    "- 구글 드라이브 + GCP + jupyter 등이 합쳐짐\n",
    "- VSCode 등과 연결해서 사용가능\n",
    "- 초반 여러가지 모듈 설치의 장점을 가짐\n"
   ]
  },
  {
   "cell_type": "code",
   "execution_count": null,
   "id": "97a8d371",
   "metadata": {},
   "outputs": [],
   "source": []
  }
 ],
 "metadata": {
  "kernelspec": {
   "display_name": "Python 3",
   "language": "python",
   "name": "python3"
  },
  "language_info": {
   "codemirror_mode": {
    "name": "ipython",
    "version": 3
   },
   "file_extension": ".py",
   "mimetype": "text/x-python",
   "name": "python",
   "nbconvert_exporter": "python",
   "pygments_lexer": "ipython3",
   "version": "3.9.1"
  }
 },
 "nbformat": 4,
 "nbformat_minor": 5
}
