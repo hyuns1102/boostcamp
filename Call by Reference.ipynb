{
 "cells": [
  {
   "cell_type": "code",
   "execution_count": 1,
   "id": "755d434a",
   "metadata": {},
   "outputs": [
    {
     "name": "stdout",
     "output_type": "stream",
     "text": [
      "2\n"
     ]
    }
   ],
   "source": [
    "def spam(eggs):\n",
    "    eggs += 1\n",
    "    return eggs\n",
    "    print(eggs)\n",
    "    \n",
    "ham = 1\n",
    "ham = spam(ham)\n",
    "print(ham)"
   ]
  },
  {
   "cell_type": "code",
   "execution_count": 2,
   "id": "213e2472",
   "metadata": {},
   "outputs": [],
   "source": [
    "def swap_value (x, y):\n",
    "    temp = x\n",
    "    x = y\n",
    "    y = temp\n",
    "\n",
    "def swap_offset_1(offset_x, offset_y):\n",
    "    temp = a[offset_x]\n",
    "    a[offset_x] = a[offset_y]\n",
    "    a[offset_y] = temp\n",
    "\n",
    "def swap_reference(list_ex, offset_x, offset_y):\n",
    "    temp = list_ex[offset_x]\n",
    "    list_ex[offset_x] = list_ex[offset_y]\n",
    "    list_ex[offset_y] = temp\n"
   ]
  },
  {
   "cell_type": "code",
   "execution_count": 3,
   "id": "5b0cb511",
   "metadata": {},
   "outputs": [
    {
     "data": {
      "text/plain": [
       "[1, 2, 3, 4, 5]"
      ]
     },
     "execution_count": 3,
     "metadata": {},
     "output_type": "execute_result"
    }
   ],
   "source": [
    "ex = [1,2,3,4,5]\n",
    "swap_value (ex[0], ex[1])\n",
    "ex"
   ]
  },
  {
   "cell_type": "code",
   "execution_count": 4,
   "id": "8399a7af",
   "metadata": {},
   "outputs": [
    {
     "ename": "NameError",
     "evalue": "name 'swap_offset' is not defined",
     "output_type": "error",
     "traceback": [
      "\u001b[1;31m---------------------------------------------------------------------------\u001b[0m",
      "\u001b[1;31mNameError\u001b[0m                                 Traceback (most recent call last)",
      "\u001b[1;32m<ipython-input-4-9b493f8f62d0>\u001b[0m in \u001b[0;36m<module>\u001b[1;34m\u001b[0m\n\u001b[1;32m----> 1\u001b[1;33m \u001b[0mswap_offset\u001b[0m \u001b[1;33m(\u001b[0m\u001b[1;36m0\u001b[0m\u001b[1;33m,\u001b[0m \u001b[1;36m1\u001b[0m\u001b[1;33m)\u001b[0m\u001b[1;33m\u001b[0m\u001b[1;33m\u001b[0m\u001b[0m\n\u001b[0m\u001b[0;32m      2\u001b[0m \u001b[0mex\u001b[0m\u001b[1;33m\u001b[0m\u001b[1;33m\u001b[0m\u001b[0m\n",
      "\u001b[1;31mNameError\u001b[0m: name 'swap_offset' is not defined"
     ]
    }
   ],
   "source": [
    "swap_offset (0, 1)\n",
    "ex"
   ]
  }
 ],
 "metadata": {
  "kernelspec": {
   "display_name": "Python 3",
   "language": "python",
   "name": "python3"
  },
  "language_info": {
   "codemirror_mode": {
    "name": "ipython",
    "version": 3
   },
   "file_extension": ".py",
   "mimetype": "text/x-python",
   "name": "python",
   "nbconvert_exporter": "python",
   "pygments_lexer": "ipython3",
   "version": "3.9.1"
  }
 },
 "nbformat": 4,
 "nbformat_minor": 5
}