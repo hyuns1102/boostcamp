{
 "cells": [
  {
   "cell_type": "code",
   "execution_count": 1,
   "id": "6aacb1c5",
   "metadata": {},
   "outputs": [],
   "source": [
    "import pprint"
   ]
  },
  {
   "cell_type": "markdown",
   "id": "3c9b8e02",
   "metadata": {},
   "source": [
    "### Split & Join"
   ]
  },
  {
   "cell_type": "code",
   "execution_count": 2,
   "id": "e88e9caf",
   "metadata": {},
   "outputs": [
    {
     "name": "stdout",
     "output_type": "stream",
     "text": [
      "['zero', 'one', 'two', 'three', 'four']\n",
      "['zero', 'one', 'two', 'three', 'four']\n",
      "zero\n",
      "one\n",
      "two\n",
      "three\n",
      "four\n"
     ]
    },
    {
     "data": {
      "text/plain": [
       "'zero one two three four'"
      ]
     },
     "execution_count": 2,
     "metadata": {},
     "output_type": "execute_result"
    }
   ],
   "source": [
    "# Split & Join\n",
    "item = \"zero one two three four\".split(\" \")\n",
    "print(item)\n",
    "\n",
    "item_2 = \"zero, one, two, three, four\"\n",
    "print(item_2.split(\", \"))\n",
    "\n",
    "for content in item_2.split(\", \"):\n",
    "    print(content.strip())\n",
    "    \n",
    "item_3 = [\"zero\", \"one\", \"two\", \"three\", \"four\"]\n",
    "\" \".join(item_3)"
   ]
  },
  {
   "cell_type": "markdown",
   "id": "af1656ca",
   "metadata": {},
   "source": [
    "### List Comprehension"
   ]
  },
  {
   "cell_type": "code",
   "execution_count": 16,
   "id": "f0122161",
   "metadata": {},
   "outputs": [
    {
     "name": "stdout",
     "output_type": "stream",
     "text": [
      "[0, 1, 2, 3, 4, 5, 6, 7, 8]\n",
      "\n",
      "['hw', 'hh', 'he', 'hr', 'he', 'ew', 'eh', 'ee', 'er', 'ee', 'lw', 'lh', 'le', 'lr', 'le', 'lw', 'lh', 'le', 'lr', 'le', 'ow', 'oh', 'oe', 'or', 'oe']\n",
      "\n",
      "['hw', 'he', 'hr', 'he', 'ew', 'eh', 'er', 'lw', 'lh', 'le', 'lr', 'le', 'lw', 'lh', 'le', 'lr', 'le', 'ow', 'oh', 'oe', 'or', 'oe']\n",
      "['xxx', 'hh', 'xxx', 'xxx', 'xxx', 'xxx', 'xxx', 'ee', 'xxx', 'ee', 'xxx', 'xxx', 'xxx', 'xxx', 'xxx', 'xxx', 'xxx', 'xxx', 'xxx', 'xxx', 'xxx', 'xxx', 'xxx', 'xxx', 'xxx']\n",
      "\n",
      "['The', 'quick', 'brown', 'fox', 'jumps', 'over', 'the', 'lazy', 'dog']\n",
      "[['THE', 'the', 3],\n",
      " ['QUICK', 'quick', 5],\n",
      " ['BROWN', 'brown', 5],\n",
      " ['FOX', 'fox', 3],\n",
      " ['JUMPS', 'jumps', 5],\n",
      " ['OVER', 'over', 4],\n",
      " ['THE', 'the', 3],\n",
      " ['LAZY', 'lazy', 4],\n",
      " ['DOG', 'dog', 3]]\n",
      "\n",
      "['AD', 'AE', 'AF', 'BD', 'BE', 'BF', 'CD', 'CE', 'CF']\n",
      "[['AD', 'BD', 'CD'], ['AE', 'BE', 'CE'], ['AF', 'BF', 'CF']]\n"
     ]
    }
   ],
   "source": [
    "# List Comprehension\n",
    "result = [i for i in range(9)]\n",
    "print(result)\n",
    "print()\n",
    "\n",
    "# Nested For loop\n",
    "word_1 = \"hello\"\n",
    "word_2 = \"where\"\n",
    "result = [i+j for i in word_1 for j in word_2]\n",
    "print(result)\n",
    "print()\n",
    "\n",
    "# filter\n",
    "result = [i+j for i in word_1 for j in word_2 if not i==j]\n",
    "print(result)\n",
    "result = [i+j if i==j else \"xxx\" for i in word_1 for j in word_2]\n",
    "print(result)\n",
    "print()\n",
    "\n",
    "# Two dimensions List\n",
    "words = \"The quick brown fox jumps over the lazy dog\".split()\n",
    "print(words)\n",
    "two_d_words = [[w.upper(),w.lower(),len(w)] for w in words]\n",
    "pprint.pprint(two_d_words)\n",
    "print()\n",
    "\n",
    "# Two dimensions vs One dimension\n",
    "case1 = [\"A\", \"B\", \"C\"]\n",
    "case2 = [\"D\", \"E\", \"F\"]\n",
    "print([i+j for i in case1 for j in case2])\n",
    "print([[i+j for i in case1] for j in case2]) # case2 먼저 작동하게 된다."
   ]
  },
  {
   "cell_type": "markdown",
   "id": "1713c69d",
   "metadata": {},
   "source": [
    "## Enumerate & zip"
   ]
  },
  {
   "cell_type": "code",
   "execution_count": 22,
   "id": "5e3de923",
   "metadata": {
    "scrolled": true
   },
   "outputs": [
    {
     "name": "stdout",
     "output_type": "stream",
     "text": [
      "0 ('a1', 'b1')\n",
      "1 ('a2', 'b2')\n",
      "2 ('a3', 'b3')\n",
      "\n",
      "[(0, ('a1', 'b1')), (1, ('a2', 'b2')), (2, ('a3', 'b3'))]\n",
      "[('a1', 'b1'), ('a2', 'b2'), ('a3', 'b3')]\n",
      "[(0, 'a1'), (1, 'a2'), (2, 'a3'), (3, 'b1'), (4, 'b2'), (5, 'b3')]\n"
     ]
    }
   ],
   "source": [
    "alist = [\"a1\", \"a2\", \"a3\"]\n",
    "blist = [\"b1\", \"b2\", \"b3\"]\n",
    "\n",
    "for i, values in enumerate(zip(alist, blist)):\n",
    "    print(i, values)\n",
    "\n",
    "print()\n",
    "print(list(enumerate(zip(alist, blist))))\n",
    "print(list(zip(alist, blist)))\n",
    "print(list(enumerate(alist + blist)))\n"
   ]
  },
  {
   "cell_type": "markdown",
   "id": "26cbe992",
   "metadata": {},
   "source": [
    "## Lambda"
   ]
  },
  {
   "cell_type": "code",
   "execution_count": 29,
   "id": "7ebca598",
   "metadata": {},
   "outputs": [
    {
     "name": "stdout",
     "output_type": "stream",
     "text": [
      "5\n",
      "\n",
      "60\n",
      "\n",
      "60\n"
     ]
    }
   ],
   "source": [
    "def f(x,y):\n",
    "    return x+y\n",
    "print(f(1, 4))\n",
    "print()\n",
    "\n",
    "f = (lambda x, y : x+y)\n",
    "print(f(10, 50))\n",
    "print()\n",
    "\n",
    "print((lambda x, y : x+y)(10, 50))\n",
    "print()"
   ]
  },
  {
   "cell_type": "markdown",
   "id": "22bbea03",
   "metadata": {},
   "source": [
    "## Map"
   ]
  },
  {
   "cell_type": "code",
   "execution_count": 42,
   "id": "9c61df7c",
   "metadata": {},
   "outputs": [
    {
     "name": "stdout",
     "output_type": "stream",
     "text": [
      "[6, 7, 8, 9, 10]\n",
      "\n",
      "[1, 4, 9, 16, 25]\n",
      "[1, 4, 9, 16, 25]\n",
      "\n",
      "[2, 4, 6, 8, 10]\n",
      "\n"
     ]
    }
   ],
   "source": [
    "def f(x):\n",
    "    return x+5\n",
    "ex = [1,2,3,4,5]\n",
    "print(list(map(f, ex)),end = \"\\n\\n\")\n",
    "\n",
    "f = lambda x : x ** 2\n",
    "print(list(map(f, ex)))\n",
    "print([f(v) for v in ex], end = \"\\n\\n\")  # map을 쓰지 않고 이렇게 쓰는 방법이 더 효율적이다!\n",
    "\n",
    "f = lambda x, y : x + y\n",
    "print(list(map(f, ex, ex)), end = \"\\n\\n\")  # 파라미터가 두 개인 경우에도 사용 가능\n",
    "\n"
   ]
  },
  {
   "cell_type": "markdown",
   "id": "8b8d552a",
   "metadata": {},
   "source": [
    "## input 받는 방법 3가지"
   ]
  },
  {
   "cell_type": "code",
   "execution_count": 50,
   "id": "1df1c1ce",
   "metadata": {},
   "outputs": [
    {
     "name": "stdout",
     "output_type": "stream",
     "text": [
      "1 2 3 4 5\n",
      "[1, 2, 3, 4, 5]\n",
      "\n",
      "1 23 4 51 \n",
      "[1, 23, 4, 51]\n",
      "\n"
     ]
    }
   ],
   "source": [
    "#map function\n",
    "i = list(map(int, input().split()))\n",
    "print(i)\n",
    "print()\n",
    "\n",
    "#list comprehension\n",
    "mprehension\n",
    "j = [int(x) for x in input().split()]\n",
    "print(j)\n",
    "print()"
   ]
  },
  {
   "cell_type": "markdown",
   "id": "fc57b387",
   "metadata": {},
   "source": [
    "## reduce"
   ]
  },
  {
   "cell_type": "code",
   "execution_count": 51,
   "id": "abb55648",
   "metadata": {},
   "outputs": [
    {
     "data": {
      "text/plain": [
       "15"
      ]
     },
     "execution_count": 51,
     "metadata": {},
     "output_type": "execute_result"
    }
   ],
   "source": [
    "from functools import reduce\n",
    "reduce(lambda x, y: x+y, [1,2,3,4,5])"
   ]
  }
 ],
 "metadata": {
  "kernelspec": {
   "display_name": "Python 3",
   "language": "python",
   "name": "python3"
  },
  "language_info": {
   "codemirror_mode": {
    "name": "ipython",
    "version": 3
   },
   "file_extension": ".py",
   "mimetype": "text/x-python",
   "name": "python",
   "nbconvert_exporter": "python",
   "pygments_lexer": "ipython3",
   "version": "3.9.1"
  }
 },
 "nbformat": 4,
 "nbformat_minor": 5
}
