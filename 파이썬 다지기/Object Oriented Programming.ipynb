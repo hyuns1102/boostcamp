{
 "cells": [
  {
   "cell_type": "markdown",
   "id": "95785a36",
   "metadata": {},
   "source": [
    " self란? 생성된 instance를 얘기한다.  \n",
    " ex) abc = SoccerPlayer(\"Son\", \"FW\", 7) 여기서 인스턴스는 **abc**이다.  \n",
    "     abc를 가리킬 때 self를 쓴다."
   ]
  },
  {
   "cell_type": "code",
   "execution_count": 11,
   "id": "d2b05d52",
   "metadata": {},
   "outputs": [
    {
     "name": "stdout",
     "output_type": "stream",
     "text": [
      "hi\n",
      "Sonkein\n",
      "선수의 등번호를 변경합니다.: From 7 to 9\n",
      "9\n",
      "20\n"
     ]
    }
   ],
   "source": [
    "class SoccerPlayer(object):\n",
    "    def __init__ (self, name : str, position : str, back_number : int):\n",
    "        self.name = name\n",
    "        self.position = position\n",
    "        self.back_number = back_number\n",
    "    \n",
    "    def __str__(self):\n",
    "        return \"hi\"\n",
    "    \n",
    "    def __add__(self, other):\n",
    "        return self.name + other.name  # 매직 메소드?\n",
    "    \n",
    "    def change_back_number (self, new_number):\n",
    "        print(\"선수의 등번호를 변경합니다.: From %d to %d\" % \\\n",
    "             (self.back_number, new_number))\n",
    "        self.back_number = new_number\n",
    "\n",
    "abc = SoccerPlayer(\"Son\", \"FW\", 7)\n",
    "ddd = SoccerPlayer(\"kein\", \"DM\", 12)\n",
    "eee = SoccerPlayer(\"Park\", \"WF\", 8)  # 각각 다른 객체\n",
    "\n",
    "print(abc)\n",
    "print(abc + ddd)\n",
    "abc.change_back_number(9) # 메소드 실행 -> 값 변경은 직접 해주는 게 낫다.\n",
    "print(abc.back_number)\n",
    "abc.back_number = 20\n",
    "print(abc.back_number)"
   ]
  },
  {
   "cell_type": "markdown",
   "id": "68c9c348",
   "metadata": {},
   "source": [
    "## 노트북 만들기"
   ]
  },
  {
   "cell_type": "code",
   "execution_count": 13,
   "id": "74cb86d2",
   "metadata": {
    "scrolled": false
   },
   "outputs": [
    {
     "ename": "IndentationError",
     "evalue": "expected an indented block (<ipython-input-13-3200d653dbee>, line 3)",
     "output_type": "error",
     "traceback": [
      "\u001b[1;36m  File \u001b[1;32m\"<ipython-input-13-3200d653dbee>\"\u001b[1;36m, line \u001b[1;32m3\u001b[0m\n\u001b[1;33m    class Note(object):\u001b[0m\n\u001b[1;37m    ^\u001b[0m\n\u001b[1;31mIndentationError\u001b[0m\u001b[1;31m:\u001b[0m expected an indented block\n"
     ]
    }
   ],
   "source": [
    "class Notebook(object):\n",
    "    \n",
    "class Note(object):\n",
    "    def __init__(self, content = None):\n",
    "        self.content   \n",
    "    \n",
    "    "
   ]
  },
  {
   "cell_type": "markdown",
   "id": "ce249e06",
   "metadata": {},
   "source": [
    "## 객체의 특징 - Inheritance (상속)"
   ]
  },
  {
   "cell_type": "code",
   "execution_count": 37,
   "id": "f0dc5c07",
   "metadata": {},
   "outputs": [],
   "source": [
    "class Person(object):\n",
    "    def __init__(self, name, age, gender):\n",
    "        self.name = name\n",
    "        self.age = age\n",
    "        self.gender = gender\n",
    "        \n",
    "    def __str__(self):\n",
    "        return \"저의 이름은 {0} 입니다. 나이는 {1} 입니다.\".format(self.name, self.age)\n",
    "\n",
    "    def about_me(self):\n",
    "        print(f\"저의 이름은 {0} 입니다. 나이는 {1} 입니다.\")\n",
    "    "
   ]
  },
  {
   "cell_type": "code",
   "execution_count": 38,
   "id": "d73b5ab2",
   "metadata": {},
   "outputs": [],
   "source": [
    "class Korean(Person):\n",
    "    pass"
   ]
  },
  {
   "cell_type": "code",
   "execution_count": 39,
   "id": "dc02a9e6",
   "metadata": {},
   "outputs": [
    {
     "name": "stdout",
     "output_type": "stream",
     "text": [
      "저의 이름은 hyunsoo 입니다. 나이는 35 입니다.\n"
     ]
    }
   ],
   "source": [
    "first_korean = Korean(\"hyunsoo\", 35, \"M\")\n",
    "print(first_korean)"
   ]
  },
  {
   "cell_type": "code",
   "execution_count": 40,
   "id": "f12d39ba",
   "metadata": {},
   "outputs": [],
   "source": [
    "class Employee(Person):\n",
    "    def __init__(self, name, age, gender, salary, hire_date):\n",
    "        super().__init__(name, age, gender)  # super() : 부모의 init을 가져온다.\n",
    "        self.salary = salary\n",
    "        self.hire_date = hire_date\n",
    "        \n",
    "    def do_work(self):\n",
    "        print(\"fighting\")\n",
    "        \n",
    "    def about_me(self):\n",
    "        super().about_me()\n",
    "        print(f\"제 급여는 {self.salary} 원 이고, 입사일은 {self.hire_date} 입니다.\")\n",
    "        "
   ]
  },
  {
   "cell_type": "code",
   "execution_count": 41,
   "id": "bae87204",
   "metadata": {},
   "outputs": [
    {
     "name": "stdout",
     "output_type": "stream",
     "text": [
      "저의 이름은 0 입니다. 나이는 1 입니다.\n",
      "제 급여는 3500 원 이고, 입사일은 7월 1일 입니다.\n"
     ]
    }
   ],
   "source": [
    "hyuns = Employee(\"hyunsook\", 25, \"M\", 3500, \"7월 1일\")\n",
    "hyuns.about_me()"
   ]
  },
  {
   "cell_type": "markdown",
   "id": "5d34018b",
   "metadata": {},
   "source": [
    "## 객체의 특징 - Polymorphism (다형성)\n",
    " - 같은 이름 메소드의 내부 로직을 다르게 작성\n",
    " - Dynamic Typing 특성으로 인해 같은 부모 클래스의 상속에서 주로 발생함.\n",
    " - 중요한 OOP의 개념 깊이 알기 X"
   ]
  },
  {
   "cell_type": "code",
   "execution_count": 61,
   "id": "2f6ffa5f",
   "metadata": {},
   "outputs": [
    {
     "name": "stdout",
     "output_type": "stream",
     "text": [
      "현수 : 남자 입니다.\n",
      "철수 : 남자 입니다.\n",
      "병수 : 남자 입니다.\n",
      "민아 : 여자 입니다.\n",
      "나 : hi\n"
     ]
    }
   ],
   "source": [
    "class Person(object):\n",
    "    def __init__(self, name):\n",
    "        self.name = name\n",
    "    def talk(self):\n",
    "#         raise NotImplementedError(\"Subclass must implement abstract method\")\n",
    "        return \"hi\"\n",
    "\n",
    "class man(Person):\n",
    "    def talk(self):\n",
    "        return \"남자 입니다.\"\n",
    "        \n",
    "class woman(Person):\n",
    "    def talk(self):\n",
    "        return \"여자 입니다.\"\n",
    "        \n",
    "abc = [man(\"현수\"), man(\"철수\"), man(\"병수\"), woman(\"민아\"), Person(\"나\")]\n",
    "for p in abc:\n",
    "    print(f\"{p.name} : {p.talk()}\") "
   ]
  },
  {
   "cell_type": "markdown",
   "id": "341c9e70",
   "metadata": {},
   "source": [
    "## 객체의 특징 - Visibility(가시성)\n",
    " - 객체의 정보를 볼 수 있는 레벨을 조절하는 것\n",
    " - __누구나 객체 안에 모든 변수를 볼 필요가 없다.__\n",
    " - \"__\" 을 이용한다.\n",
    " \n",
    "#### Encapulation(캡슐화)\n",
    " - 캡슐화 또는 정보 은닉\n",
    " - class간 간섭/ 정보 공유의 최소화 "
   ]
  },
  {
   "cell_type": "code",
   "execution_count": 80,
   "id": "802c76f5",
   "metadata": {},
   "outputs": [],
   "source": [
    "class Product(object):\n",
    "    pass"
   ]
  },
  {
   "cell_type": "code",
   "execution_count": 84,
   "id": "c4579a7c",
   "metadata": {},
   "outputs": [],
   "source": [
    "class Inventory(object):\n",
    "    def __init__(self):\n",
    "        self.items = []  # item에 접근 가능한지 보기\n",
    "        self.test = \"abc\"\n",
    "        \n",
    "    def add_new_item(self, product):\n",
    "        if type(product) == Product:\n",
    "            self.items.append(product)\n",
    "            print(\"new item added\")\n",
    "        else:\n",
    "            raise ValueError(\"Invalid Item\")\n",
    "    \n",
    "    def get_number_of_items(self):\n",
    "        return len(self.items)\n",
    "            "
   ]
  },
  {
   "cell_type": "code",
   "execution_count": 86,
   "id": "ff2f28d3",
   "metadata": {},
   "outputs": [
    {
     "name": "stdout",
     "output_type": "stream",
     "text": [
      "new item added\n",
      "new item added\n",
      "NO!\n",
      "2\n"
     ]
    },
    {
     "data": {
      "text/plain": [
       "[<__main__.Product at 0x209395d5d00>,\n",
       " <__main__.Product at 0x209395d5040>,\n",
       " 'no no']"
      ]
     },
     "execution_count": 86,
     "metadata": {},
     "output_type": "execute_result"
    }
   ],
   "source": [
    "my_inventory = Inventory()\n",
    "my_inventory.add_new_item(Product())\n",
    "my_inventory.add_new_item(Product())\n",
    "my_inventory.add_new_item(object)\n",
    "print(my_inventory.get_number_of_items())\n",
    "\n",
    "my_inventory.items.append(\"no no\")  # 이렇게 외부에서 인벤토리 안에 아이템에 접근이 가능하다.\n",
    "my_inventory.items\n"
   ]
  },
  {
   "cell_type": "code",
   "execution_count": 95,
   "id": "09ff8676",
   "metadata": {},
   "outputs": [],
   "source": [
    "class Inventory(object):\n",
    "    def __init__(self):\n",
    "        self.__items = []  # item에 __ 를 했을 때\n",
    "        self.test = \"abc\"\n",
    "        \n",
    "    def add_new_item(self, product):\n",
    "        if type(product) == Product:\n",
    "            self.__items.append(product)\n",
    "            print(\"new item added\")\n",
    "        else:\n",
    "            raise ValueError(\"Invalid Item\")\n",
    "    \n",
    "    def get_number_of_items(self):\n",
    "        return len(self.__items)  # item에 __ 를 했을 때\n",
    "            "
   ]
  },
  {
   "cell_type": "code",
   "execution_count": 96,
   "id": "7a162e00",
   "metadata": {},
   "outputs": [
    {
     "name": "stdout",
     "output_type": "stream",
     "text": [
      "new item added\n",
      "new item added\n"
     ]
    },
    {
     "ename": "ValueError",
     "evalue": "Invalid Item",
     "output_type": "error",
     "traceback": [
      "\u001b[1;31m---------------------------------------------------------------------------\u001b[0m",
      "\u001b[1;31mValueError\u001b[0m                                Traceback (most recent call last)",
      "\u001b[1;32m<ipython-input-96-67718a4aefe4>\u001b[0m in \u001b[0;36m<module>\u001b[1;34m\u001b[0m\n\u001b[0;32m      2\u001b[0m \u001b[0mmy_inventory\u001b[0m\u001b[1;33m.\u001b[0m\u001b[0madd_new_item\u001b[0m\u001b[1;33m(\u001b[0m\u001b[0mProduct\u001b[0m\u001b[1;33m(\u001b[0m\u001b[1;33m)\u001b[0m\u001b[1;33m)\u001b[0m\u001b[1;33m\u001b[0m\u001b[1;33m\u001b[0m\u001b[0m\n\u001b[0;32m      3\u001b[0m \u001b[0mmy_inventory\u001b[0m\u001b[1;33m.\u001b[0m\u001b[0madd_new_item\u001b[0m\u001b[1;33m(\u001b[0m\u001b[0mProduct\u001b[0m\u001b[1;33m(\u001b[0m\u001b[1;33m)\u001b[0m\u001b[1;33m)\u001b[0m\u001b[1;33m\u001b[0m\u001b[1;33m\u001b[0m\u001b[0m\n\u001b[1;32m----> 4\u001b[1;33m \u001b[0mmy_inventory\u001b[0m\u001b[1;33m.\u001b[0m\u001b[0madd_new_item\u001b[0m\u001b[1;33m(\u001b[0m\u001b[0mobject\u001b[0m\u001b[1;33m)\u001b[0m\u001b[1;33m\u001b[0m\u001b[1;33m\u001b[0m\u001b[0m\n\u001b[0m\u001b[0;32m      5\u001b[0m \u001b[0mprint\u001b[0m\u001b[1;33m(\u001b[0m\u001b[0mmy_inventory\u001b[0m\u001b[1;33m.\u001b[0m\u001b[0mget_number_of_items\u001b[0m\u001b[1;33m(\u001b[0m\u001b[1;33m)\u001b[0m\u001b[1;33m)\u001b[0m\u001b[1;33m\u001b[0m\u001b[1;33m\u001b[0m\u001b[0m\n\u001b[0;32m      6\u001b[0m \u001b[1;33m\u001b[0m\u001b[0m\n",
      "\u001b[1;32m<ipython-input-95-86d1cf0cb4cc>\u001b[0m in \u001b[0;36madd_new_item\u001b[1;34m(self, product)\u001b[0m\n\u001b[0;32m      9\u001b[0m             \u001b[0mprint\u001b[0m\u001b[1;33m(\u001b[0m\u001b[1;34m\"new item added\"\u001b[0m\u001b[1;33m)\u001b[0m\u001b[1;33m\u001b[0m\u001b[1;33m\u001b[0m\u001b[0m\n\u001b[0;32m     10\u001b[0m         \u001b[1;32melse\u001b[0m\u001b[1;33m:\u001b[0m\u001b[1;33m\u001b[0m\u001b[1;33m\u001b[0m\u001b[0m\n\u001b[1;32m---> 11\u001b[1;33m             \u001b[1;32mraise\u001b[0m \u001b[0mValueError\u001b[0m\u001b[1;33m(\u001b[0m\u001b[1;34m\"Invalid Item\"\u001b[0m\u001b[1;33m)\u001b[0m\u001b[1;33m\u001b[0m\u001b[1;33m\u001b[0m\u001b[0m\n\u001b[0m\u001b[0;32m     12\u001b[0m \u001b[1;33m\u001b[0m\u001b[0m\n\u001b[0;32m     13\u001b[0m     \u001b[1;32mdef\u001b[0m \u001b[0mget_number_of_items\u001b[0m\u001b[1;33m(\u001b[0m\u001b[0mself\u001b[0m\u001b[1;33m)\u001b[0m\u001b[1;33m:\u001b[0m\u001b[1;33m\u001b[0m\u001b[1;33m\u001b[0m\u001b[0m\n",
      "\u001b[1;31mValueError\u001b[0m: Invalid Item"
     ]
    }
   ],
   "source": [
    "my_inventory = Inventory()\n",
    "my_inventory.add_new_item(Product())\n",
    "my_inventory.add_new_item(Product())\n",
    "my_inventory.add_new_item(object)\n",
    "print(my_inventory.get_number_of_items())\n",
    "\n",
    "my_inventory.__items.append(\"no no\") # 접근이 불가능하다.\n",
    "my_inventory.__items\n"
   ]
  },
  {
   "cell_type": "markdown",
   "id": "6d2c409a",
   "metadata": {},
   "source": [
    "#### 접근 가능하게 하려면 어떻게 할까? - @property (decorator) 를 이용한다."
   ]
  },
  {
   "cell_type": "code",
   "execution_count": 101,
   "id": "fdb184b1",
   "metadata": {},
   "outputs": [],
   "source": [
    "class Inventory(object):\n",
    "    def __init__(self):\n",
    "        self.__items = []  # item에 __ 를 했을 때\n",
    "        self.test = \"abc\"\n",
    "        \n",
    "    def add_new_item(self, product):\n",
    "        if type(product) == Product:\n",
    "            self.__items.append(product)\n",
    "            print(\"new item added\")\n",
    "        else:\n",
    "            raise ValueError(\"Invalid Item\")\n",
    "    \n",
    "    def get_number_of_items(self):\n",
    "        return len(self.__items)  # item에 __ 를 했을 때\n",
    "    \n",
    "    @property\n",
    "    def items(self):\n",
    "        return self.__items            "
   ]
  },
  {
   "cell_type": "code",
   "execution_count": 102,
   "id": "cd961b8e",
   "metadata": {},
   "outputs": [
    {
     "name": "stdout",
     "output_type": "stream",
     "text": [
      "new item added\n"
     ]
    },
    {
     "data": {
      "text/plain": [
       "[<__main__.Product at 0x2093a424430>]"
      ]
     },
     "execution_count": 102,
     "metadata": {},
     "output_type": "execute_result"
    }
   ],
   "source": [
    "my_inventory = Inventory()\n",
    "my_inventory.add_new_item(Product())\n",
    "my_inventory.items"
   ]
  },
  {
   "cell_type": "markdown",
   "id": "b35cd544",
   "metadata": {},
   "source": [
    "## Decorate\n",
    " - First-class objects\n",
    " - inner function\n",
    " - decorator\n",
    " **파이썬은 일급 함수! 일급 객체! 이다.**\n",
    " \n",
    " #### First-class objects\n",
    " 일등함수 또는 일급 객체\n",
    " 변수나 데이터 구조에 할당이 가능한 객체  \n",
    " 파라메터로 전달이 가능 + 리턴 값으로 사용 ex) map(f, ex)\n",
    " \n",
    " #### inner function\n",
    " 함수 내에 또 다른 함수가 존재한다.\n",
    " 클로저 기능 (javascript)\n",
    " \n",
    " #### decorator function\n",
    " 복잡한 클로져 함수를 간단하게!\n",
    " "
   ]
  },
  {
   "cell_type": "code",
   "execution_count": 119,
   "id": "7287b7e4",
   "metadata": {
    "scrolled": true
   },
   "outputs": [
    {
     "name": "stdout",
     "output_type": "stream",
     "text": [
      "2\n",
      "[2, 4, 6, 8, 10]\n",
      "\n",
      "Hello, Python\n",
      "\n",
      "TTTTTTTTTTTTTTTTTTTTTTTTTTTTTT\n",
      "Hello\n",
      "TTTTTTTTTTTTTTTTTTTTTTTTTTTTTT\n"
     ]
    }
   ],
   "source": [
    "# First-class objects\n",
    "\n",
    "def sum(a):\n",
    "    return a+a\n",
    "\n",
    "d = sum\n",
    "print(d(1))\n",
    "\n",
    "def square(x):\n",
    "    return x * x\n",
    "def cube(x):\n",
    "    return x * x * x\n",
    "def formula(method,arg_list):\n",
    "    return [method(value) for value in arg_list]\n",
    "\n",
    "print(formula(d, [1,2,3,4,5]))\n",
    "print()\n",
    "\n",
    "# inner function\n",
    "def print_msg(msg):\n",
    "    def printer():\n",
    "        print(msg)\n",
    "        \n",
    "    return printer\n",
    "another = print_msg(\"Hello, Python\")\n",
    "another() \n",
    "print()\n",
    "\n",
    "\n",
    "# decorator function -> 마지막 예제 다\n",
    "def star(func):\n",
    "    def inner(*args, **kwargs):\n",
    "        print(args[1] * 30)\n",
    "        func(*args, **kwargs)\n",
    "        print(args[1] * 30)\n",
    "    return inner\n",
    "\n",
    "@star\n",
    "def printer(msg, mark):\n",
    "    print(msg)\n",
    "printer(\"Hello\", \"T\")"
   ]
  },
  {
   "cell_type": "code",
   "execution_count": null,
   "id": "f26578ee",
   "metadata": {},
   "outputs": [],
   "source": []
  }
 ],
 "metadata": {
  "kernelspec": {
   "display_name": "Python 3",
   "language": "python",
   "name": "python3"
  },
  "language_info": {
   "codemirror_mode": {
    "name": "ipython",
    "version": 3
   },
   "file_extension": ".py",
   "mimetype": "text/x-python",
   "name": "python",
   "nbconvert_exporter": "python",
   "pygments_lexer": "ipython3",
   "version": "3.9.1"
  }
 },
 "nbformat": 4,
 "nbformat_minor": 5
}
