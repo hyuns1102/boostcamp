{
 "cells": [
  {
   "cell_type": "markdown",
   "id": "13efbeb2",
   "metadata": {},
   "source": [
    "## Vector\n",
    "\n",
    " vector는 숫자를 원소로 가지는 리스트(list) 또는 배열(array)입니다.  \n",
    " vector는 공간에서 한 점을 나타냅니다.   \n",
    " vector는 원점으로부터 상대적 위치를 표현합니다.  \n",
    " vector에 숫자를 곱해주면 길이만 변화됩니다.  \n",
    " 두 벡터의 덧셈은 다른 벡터로부터 상대적 위치이동을 표현합니다. (뺄셈은 반대 방향)"
   ]
  },
  {
   "cell_type": "code",
   "execution_count": 5,
   "id": "8aa6b206",
   "metadata": {},
   "outputs": [],
   "source": [
    "import numpy as np"
   ]
  },
  {
   "cell_type": "code",
   "execution_count": 6,
   "id": "5af76511",
   "metadata": {},
   "outputs": [],
   "source": [
    "x = np.array([1, 2, 3])\n",
    "y = np.array([2, 3, 4])"
   ]
  },
  {
   "cell_type": "code",
   "execution_count": 7,
   "id": "ad950fd3",
   "metadata": {},
   "outputs": [
    {
     "name": "stdout",
     "output_type": "stream",
     "text": [
      "[3 5 7]\n",
      "[-1 -1 -1]\n",
      "[ 2  6 12]\n"
     ]
    }
   ],
   "source": [
    "print(x + y)\n",
    "print(x - y)\n",
    "print(x * y)"
   ]
  },
  {
   "cell_type": "markdown",
   "id": "eabe1ef8",
   "metadata": {},
   "source": [
    "## Vector의 노름 (norm)\n",
    "\n",
    " __원점에서부터의 거리를 말한다.__  \n",
    " L1-norm : 각 성분의 _변화량의 절대값_ 을 모두 더한다.  \n",
    " L2-norm : 피타고라스 정리를 이용해 _유클리드 거리_ 를 계산한다.  \n",
    " why? 기하학적 성질이 다르다."
   ]
  },
  {
   "cell_type": "code",
   "execution_count": 15,
   "id": "ad556a18",
   "metadata": {},
   "outputs": [],
   "source": [
    "def ll_norm(x):\n",
    "    x_norm = np.abs(x)\n",
    "    x_norm = np.sum(x_norm)\n",
    "    return x_norm\n",
    "\n",
    "def l2_norm(x):\n",
    "    x_norm = x*x\n",
    "    x_norm = np.sum(x_norm)\n",
    "    x_norm = np.sqrt(x_norm)\n",
    "    return x_norm"
   ]
  },
  {
   "cell_type": "code",
   "execution_count": 16,
   "id": "3c76e6a9",
   "metadata": {},
   "outputs": [
    {
     "data": {
      "text/plain": [
       "2.23606797749979"
      ]
     },
     "execution_count": 16,
     "metadata": {},
     "output_type": "execute_result"
    }
   ],
   "source": [
    "x = np.array([1,-2])\n",
    "ll_norm(x)\n",
    "l2_norm(x)"
   ]
  },
  {
   "cell_type": "markdown",
   "id": "8b582f5c",
   "metadata": {},
   "source": [
    "## Vector 사이의 거리, 각도, 내적 \n",
    "\n",
    " 두 벡터 사이의 거리는 __노름과 뺄셈__ 을 이용한다.  \n",
    " 두 벡터 사이의 각도는 __제 2 코사인 법칙__ 을 이용한다.  \n",
    " 두 벡터 사이의 내적은 __정사영된 벡터의 길이__ 와 관련 있다.\n"
   ]
  },
  {
   "cell_type": "code",
   "execution_count": 22,
   "id": "9dce9eb0",
   "metadata": {},
   "outputs": [
    {
     "name": "stdout",
     "output_type": "stream",
     "text": [
      "2\n",
      "1.4142135623730951\n"
     ]
    }
   ],
   "source": [
    "x = np.array([2,4])\n",
    "y = np.array([3,5])\n",
    "print(ll_norm(x-y)) # 변화거리\n",
    "print(l2_norm(x-y)) # 실제거리"
   ]
  },
  {
   "cell_type": "code",
   "execution_count": 25,
   "id": "0c37c15c",
   "metadata": {},
   "outputs": [],
   "source": [
    "def angle(x,y):\n",
    "    v = np.inner(x,y) / (l2_norm(x) * l2_norm(y))\n",
    "    theta = np.arccos(v)\n",
    "    return theta"
   ]
  },
  {
   "cell_type": "code",
   "execution_count": 26,
   "id": "d833694e",
   "metadata": {},
   "outputs": [
    {
     "name": "stdout",
     "output_type": "stream",
     "text": [
      "0.07677189126977907\n"
     ]
    }
   ],
   "source": [
    "x = np.array([2,4])\n",
    "y = np.array([3,5])\n",
    "print(angle(x,y)) "
   ]
  },
  {
   "cell_type": "code",
   "execution_count": null,
   "id": "288627bb",
   "metadata": {},
   "outputs": [],
   "source": []
  }
 ],
 "metadata": {
  "kernelspec": {
   "display_name": "Python 3",
   "language": "python",
   "name": "python3"
  },
  "language_info": {
   "codemirror_mode": {
    "name": "ipython",
    "version": 3
   },
   "file_extension": ".py",
   "mimetype": "text/x-python",
   "name": "python",
   "nbconvert_exporter": "python",
   "pygments_lexer": "ipython3",
   "version": "3.9.1"
  }
 },
 "nbformat": 4,
 "nbformat_minor": 5
}
