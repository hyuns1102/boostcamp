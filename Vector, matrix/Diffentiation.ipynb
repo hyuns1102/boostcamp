{
 "cells": [
  {
   "cell_type": "markdown",
   "id": "cb13c248",
   "metadata": {},
   "source": [
    "## 미분 "
   ]
  },
  {
   "cell_type": "code",
   "execution_count": 1,
   "id": "5b2f6b93",
   "metadata": {},
   "outputs": [],
   "source": [
    "import sympy as sym\n",
    "from sympy.abc import x"
   ]
  },
  {
   "cell_type": "code",
   "execution_count": 2,
   "id": "e484af33",
   "metadata": {},
   "outputs": [
    {
     "data": {
      "text/latex": [
       "$\\displaystyle \\operatorname{Poly}{\\left( 2 x + 2, x, domain=\\mathbb{Z} \\right)}$"
      ],
      "text/plain": [
       "Poly(2*x + 2, x, domain='ZZ')"
      ]
     },
     "execution_count": 2,
     "metadata": {},
     "output_type": "execute_result"
    }
   ],
   "source": [
    "sym.diff(sym.poly(x**2 +  2*x + 3), x)"
   ]
  },
  {
   "cell_type": "markdown",
   "id": "7a1714a3",
   "metadata": {},
   "source": [
    "### 미분은 어디에 쓸까? \n",
    "\n",
    " 미분 값을 함수 f의 접선의 기울기를 구한다.\n",
    " 한 점에서의 접선의 기울기를 알면 어느 방향으로 점을 움직여야 함수값이  \n",
    " 증가 or 감소하는 지 알 수 있다. (f'(x)의 부호에 관계없이)  \n",
    " x + f'(x) 를 해주면 함수가 증가한다. : __경사 상승법 (gradient ascent)__  \n",
    " x - f'(x) 를 해주면 함수가 감소한다. : __경사 하강법 (gradient descent)__  \n",
    " 경사 상승법과 하강법이 극 값으로 가면 움직임을 멈춘다.\n",
    " "
   ]
  },
  {
   "cell_type": "markdown",
   "id": "062737a9",
   "metadata": {},
   "source": [
    "### 경사하강법 "
   ]
  },
  {
   "cell_type": "markdown",
   "id": "6ee40e5f",
   "metadata": {},
   "source": [
    "\n",
    "Input: gradient, init, lr, eps, Output: var  \n",
    "\n",
    "---\n",
    "gradient : 미분을 계산하는 함수  \n",
    "init: 시작점, lr: 학습률, eps: 알고리즘 종료 조건   \n",
    "\n",
    "\n",
    "``` python\n",
    "var = init\n",
    "grad = gradient(var)\n",
    "while(abs(grad) > eps):\n",
    "    var = var - lr * gard  # lr은 학습률로서 미분을 통해 업데이트 속도를 조절한다.\n",
    "    grad = gradient(var)   # 종료조건 성립 전까지 미분값 업데이트\n",
    "```"
   ]
  },
  {
   "cell_type": "markdown",
   "id": "85d02c46",
   "metadata": {},
   "source": [
    "## 경사하강법 : 3차원 공간\n",
    "\n",
    " 위와 같은데, 변수가 x, y 인 3차원 공간에 있을 때 극소값을 구하기 위해선  \n",
    " x, y방향 편미분을 한 함수의 값에 대입하여 찾을 수 있다.  \n",
    " 이를 gradient f 라고 하고, 3차원 공간에서 극솟값을 찾을 때 쓴다."
   ]
  },
  {
   "cell_type": "markdown",
   "id": "4550adf8",
   "metadata": {},
   "source": [
    "\n",
    "Input: gradient, init, lr, eps, Output: var  \n",
    "\n",
    "---\n",
    "gradient : 미분을 계산하는 함수  \n",
    "init: 시작점, lr: 학습률, eps: 알고리즘 종료 조건   \n",
    "\n",
    "\n",
    "``` python\n",
    "var = init\n",
    "grad = gradient(var)\n",
    "while(norm(grad) > eps):\n",
    "    var = var - lr * gard  # lr은 학습률로서 미분을 통해 업데이트 속도를 조절한다.\n",
    "    grad = gradient(var)   # 종료조건 성립 전까지 미분값 업데이트\n",
    "```"
   ]
  }
 ],
 "metadata": {
  "kernelspec": {
   "display_name": "Python 3",
   "language": "python",
   "name": "python3"
  },
  "language_info": {
   "codemirror_mode": {
    "name": "ipython",
    "version": 3
   },
   "file_extension": ".py",
   "mimetype": "text/x-python",
   "name": "python",
   "nbconvert_exporter": "python",
   "pygments_lexer": "ipython3",
   "version": "3.9.1"
  }
 },
 "nbformat": 4,
 "nbformat_minor": 5
}
