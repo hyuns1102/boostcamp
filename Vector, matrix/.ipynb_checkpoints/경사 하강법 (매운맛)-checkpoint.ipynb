{
 "cells": [
  {
   "cell_type": "markdown",
   "id": "4a6f2645",
   "metadata": {},
   "source": [
    "### 경사 하강법 (매운법)"
   ]
  },
  {
   "cell_type": "markdown",
   "id": "85d10fe1",
   "metadata": {},
   "source": [
    "Input: X, y, lr, T, Output: beta\n",
    "\n",
    "---\n",
    "\n",
    "```python\n",
    "# norm: L2-노름을 계산하는 함수\n",
    "# lr: 학습률, T: 학습횟수\n",
    "\n",
    "for t in range(T):\n",
    "    error = y - X @ beta\n",
    "    grad = - transpose(X) @ error\n",
    "    beta = beta - lr * grad\n",
    "```"
   ]
  },
  {
   "cell_type": "markdown",
   "id": "8967d67c",
   "metadata": {},
   "source": [
    "무어 펠러즈 방법을 이용하지 않고, 경사 하강법을 이용해서  \n",
    "그 때 계수를 찾아낼 수 있다.  \n",
    "__학습률(lr), 학습횟수(T) 에 따라 결과값이 달라질 수 있다.__  "
   ]
  },
  {
   "cell_type": "markdown",
   "id": "d7f2ffe2",
   "metadata": {},
   "source": [
    "## 확률적 경사하강법 (SGD)\n",
    "\n",
    " 일반적으로 위와 같은 목적식을 경사 하강법을 이용할 경우,  \n",
    " 식 자체가 선형하지 못하기 때문에 볼록하지 않는 (non-convex) 함수가 나온다.  \n",
    " 이 때의 비효율적인 검증을 줄이기 위해 한 개 또는 일부 데이터를 활용하여 검증한다.  \n",
    " 'mini batch'\n",
    " \n",
    " 여기서 고려해야할 것은 __학습률, 학습횟수, mini-batch size__ 를 고려해야 한다. \n",
    " "
   ]
  },
  {
   "cell_type": "code",
   "execution_count": null,
   "id": "fec16795",
   "metadata": {},
   "outputs": [],
   "source": []
  }
 ],
 "metadata": {
  "kernelspec": {
   "display_name": "Python 3",
   "language": "python",
   "name": "python3"
  },
  "language_info": {
   "codemirror_mode": {
    "name": "ipython",
    "version": 3
   },
   "file_extension": ".py",
   "mimetype": "text/x-python",
   "name": "python",
   "nbconvert_exporter": "python",
   "pygments_lexer": "ipython3",
   "version": "3.9.1"
  }
 },
 "nbformat": 4,
 "nbformat_minor": 5
}
