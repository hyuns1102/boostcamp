{
 "cells": [
  {
   "cell_type": "markdown",
   "id": "f3675c87",
   "metadata": {},
   "source": [
    "#### csv\n",
    " - Comma Sperate Value ( Character Sperate Value )\n",
    " - 엑셀 양식의 데이터를 프로그램에 상관없이 쓰기 위한 데이터 형식\n",
    " - "
   ]
  }
 ],
 "metadata": {
  "kernelspec": {
   "display_name": "Python 3",
   "language": "python",
   "name": "python3"
  },
  "language_info": {
   "codemirror_mode": {
    "name": "ipython",
    "version": 3
   },
   "file_extension": ".py",
   "mimetype": "text/x-python",
   "name": "python",
   "nbconvert_exporter": "python",
   "pygments_lexer": "ipython3",
   "version": "3.9.1"
  }
 },
 "nbformat": 4,
 "nbformat_minor": 5
}
