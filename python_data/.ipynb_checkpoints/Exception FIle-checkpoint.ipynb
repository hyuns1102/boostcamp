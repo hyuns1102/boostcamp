{
 "cells": [
  {
   "cell_type": "markdown",
   "id": "21998745",
   "metadata": {},
   "source": [
    "## Exception\n",
    " - if ~ else 로도 쓰일 수 있따.\n",
    " - else (예외 생길 시), finally (예외 상관 없이) 구문도 쓰일 수 있다."
   ]
  },
  {
   "cell_type": "code",
   "execution_count": 2,
   "id": "7e0b2a3e",
   "metadata": {},
   "outputs": [
    {
     "name": "stdout",
     "output_type": "stream",
     "text": [
      "Not divided by 0\n",
      "1 10\n",
      "2 5\n",
      "3 3\n",
      "4 2\n",
      "5 2\n",
      "6 1\n",
      "7 1\n",
      "8 1\n",
      "9 1\n"
     ]
    }
   ],
   "source": [
    "a = [1,2,3,4,5]\n",
    "for i in range(10):\n",
    "    try:\n",
    "        print(i, 10//i)\n",
    "    except ZeroDivisionError:\n",
    "        print(\"Not divided by 0\")"
   ]
  },
  {
   "cell_type": "code",
   "execution_count": 4,
   "id": "e30aa002",
   "metadata": {},
   "outputs": [
    {
     "name": "stdout",
     "output_type": "stream",
     "text": [
      "Not divided by 0\n",
      "1 10\n",
      "2\n",
      "2 5\n",
      "3\n",
      "3 3\n",
      "4\n",
      "4 2\n",
      "5\n",
      "5 2\n",
      "list index out of range\n",
      "6 1\n",
      "list index out of range\n",
      "7 1\n",
      "list index out of range\n",
      "8 1\n",
      "list index out of range\n",
      "9 1\n",
      "list index out of range\n"
     ]
    }
   ],
   "source": [
    "a = [1,2,3,4,5]\n",
    "for i in range(10):\n",
    "    try:\n",
    "        print(i, 10//i)\n",
    "        print(a[i])\n",
    "    except ZeroDivisionError:\n",
    "        print(\"Not divided by 0\")\n",
    "    except IndexError as e:\n",
    "        print(e)\n",
    "    except Exception as e:\n",
    "        print(e)    # 권장 x, 다른 사용자가 알 수가 없다."
   ]
  },
  {
   "cell_type": "markdown",
   "id": "08965af0",
   "metadata": {},
   "source": [
    "## File Read"
   ]
  },
  {
   "cell_type": "code",
   "execution_count": 15,
   "id": "8bf2ef87",
   "metadata": {},
   "outputs": [
    {
     "name": "stdout",
     "output_type": "stream",
     "text": [
      "I have a dream\n",
      "\n",
      "I have a dream\n"
     ]
    }
   ],
   "source": [
    "f = open(\"I_have_a_dream.txt\", \"r\")\n",
    "contents = f.read()\n",
    "print(contents)\n",
    "f.close()\n",
    "\n",
    "print()\n",
    "\n",
    "f = open(\"I_have_a_dream.txt\", \"r\")\n",
    "contents = f.readline()\n",
    "print(contents)"
   ]
  },
  {
   "cell_type": "code",
   "execution_count": 16,
   "id": "41f9b4ed",
   "metadata": {},
   "outputs": [
    {
     "name": "stdout",
     "output_type": "stream",
     "text": [
      "I have a dream\n"
     ]
    }
   ],
   "source": [
    "with open(\"I_have_a_dream.txt\", \"r\") as f:\n",
    "    contents = f.read()\n",
    "    print(contents)"
   ]
  },
  {
   "cell_type": "code",
   "execution_count": 10,
   "id": "a2e3a206",
   "metadata": {},
   "outputs": [],
   "source": [
    "f = open(\"count_log.txt\", mode = 'w', encoding=\"utf8\") \n",
    "# 문자를 어떤 표준으로 정리할 것인가? - 동아시아, 한국은 utf8\n",
    "for i in range(1, 11):\n",
    "    data = \"%d번째 줄입니다.\\n\" % i\n",
    "    f.write(data)\n",
    "f.close()\n"
   ]
  },
  {
   "cell_type": "markdown",
   "id": "1c378a7a",
   "metadata": {},
   "source": [
    "#### pathlib, os, pickle"
   ]
  },
  {
   "cell_type": "code",
   "execution_count": 11,
   "id": "1d7b2622",
   "metadata": {},
   "outputs": [],
   "source": [
    "import pathlib"
   ]
  },
  {
   "cell_type": "code",
   "execution_count": 13,
   "id": "ee96ba26",
   "metadata": {},
   "outputs": [
    {
     "data": {
      "text/plain": [
       "WindowsPath('C:/Users/hyunsoo/workspace/python_data')"
      ]
     },
     "execution_count": 13,
     "metadata": {},
     "output_type": "execute_result"
    }
   ],
   "source": [
    "cwd = pathlib.Path.cwd()\n",
    "cwd"
   ]
  },
  {
   "cell_type": "code",
   "execution_count": 14,
   "id": "845bca36",
   "metadata": {},
   "outputs": [
    {
     "data": {
      "text/plain": [
       "WindowsPath('C:/Users/hyunsoo/workspace')"
      ]
     },
     "execution_count": 14,
     "metadata": {},
     "output_type": "execute_result"
    }
   ],
   "source": [
    "cwd.parent"
   ]
  },
  {
   "cell_type": "markdown",
   "id": "c45eeffc",
   "metadata": {},
   "source": [
    "### Pickle\n",
    " - 파이썬의 객체를 영속화하는 built-in 객체\n",
    " - 데이터, object 등 실행 중 정보를 저장 -> 불러와서 사용\n",
    " - 저장해야하는 정보, 계산 결과 등 활용이 많음"
   ]
  },
  {
   "cell_type": "code",
   "execution_count": 17,
   "id": "6540a26f",
   "metadata": {},
   "outputs": [],
   "source": [
    "import pickle\n",
    "\n",
    "f = open(\"list.pickle\", \"wb\")\n",
    "test = [1,2,3,4,5]\n",
    "pickle.dump(test, f)\n",
    "f.close()"
   ]
  },
  {
   "cell_type": "code",
   "execution_count": 22,
   "id": "1c8b457f",
   "metadata": {},
   "outputs": [
    {
     "name": "stdout",
     "output_type": "stream",
     "text": [
      "[1, 2, 3, 4, 5]\n"
     ]
    }
   ],
   "source": [
    "f= open(\"list.pickle\", \"rb\")\n",
    "test_pickle = pickle.load(f)\n",
    "print(test_pickle)\n",
    "f.close()"
   ]
  },
  {
   "cell_type": "code",
   "execution_count": 20,
   "id": "5b2e6b65",
   "metadata": {},
   "outputs": [],
   "source": [
    "del test_pickle"
   ]
  },
  {
   "cell_type": "code",
   "execution_count": 23,
   "id": "a34d6f2b",
   "metadata": {},
   "outputs": [
    {
     "data": {
      "text/plain": [
       "[1, 2, 3, 4, 5]"
      ]
     },
     "execution_count": 23,
     "metadata": {},
     "output_type": "execute_result"
    }
   ],
   "source": [
    "test_pickle"
   ]
  }
 ],
 "metadata": {
  "kernelspec": {
   "display_name": "Python 3",
   "language": "python",
   "name": "python3"
  },
  "language_info": {
   "codemirror_mode": {
    "name": "ipython",
    "version": 3
   },
   "file_extension": ".py",
   "mimetype": "text/x-python",
   "name": "python",
   "nbconvert_exporter": "python",
   "pygments_lexer": "ipython3",
   "version": "3.9.1"
  }
 },
 "nbformat": 4,
 "nbformat_minor": 5
}
