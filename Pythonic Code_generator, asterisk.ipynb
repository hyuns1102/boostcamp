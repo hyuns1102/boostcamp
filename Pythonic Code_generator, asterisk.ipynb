{
 "cells": [
  {
   "cell_type": "markdown",
   "id": "5bad121c",
   "metadata": {},
   "source": [
    "## Iterable Objects"
   ]
  },
  {
   "cell_type": "code",
   "execution_count": 7,
   "id": "7eb72d7f",
   "metadata": {},
   "outputs": [
    {
     "name": "stdout",
     "output_type": "stream",
     "text": [
      "['Seoul', 'Busan', 'Jeju']\n",
      "<list_iterator object at 0x0000016859168A90>\n",
      "Seoul\n",
      "Busan\n",
      "Jeju\n"
     ]
    }
   ],
   "source": [
    "cities = [\"Seoul\", \"Busan\", \"Jeju\"]\n",
    "print(cities)\n",
    "\n",
    "memory_address_cities = iter(cities)\n",
    "print(memory_address_cities)\n",
    "print(next(memory_address_cities))\n",
    "print(next(memory_address_cities))\n",
    "print(next(memory_address_cities))"
   ]
  },
  {
   "cell_type": "markdown",
   "id": "55775744",
   "metadata": {},
   "source": [
    "## Generator "
   ]
  },
  {
   "cell_type": "code",
   "execution_count": 18,
   "id": "9f8c914e",
   "metadata": {
    "scrolled": true
   },
   "outputs": [
    {
     "name": "stdout",
     "output_type": "stream",
     "text": [
      "[0, 1, 2, 3, 4, 5, 6, 7, 8, 9, 10, 11, 12, 13, 14, 15, 16, 17, 18, 19, 20, 21, 22, 23, 24, 25, 26, 27, 28, 29, 30, 31, 32, 33, 34, 35, 36, 37, 38, 39, 40, 41, 42, 43, 44, 45, 46, 47, 48, 49]\n",
      "472\n",
      "\n",
      "<generator object generator_list at 0x000001685A5F7E40>\n",
      "[0, 1, 2, 3, 4, 5, 6, 7, 8, 9, 10, 11, 12, 13, 14, 15, 16, 17, 18, 19, 20, 21, 22, 23, 24, 25, 26, 27, 28, 29, 30, 31, 32, 33, 34, 35, 36, 37, 38, 39, 40, 41, 42, 43, 44, 45, 46, 47, 48, 49]\n",
      "112\n"
     ]
    }
   ],
   "source": [
    "import sys\n",
    "\n",
    "def general_list(value):\n",
    "    result = []\n",
    "    for i in range(value):\n",
    "        result.append(i)\n",
    "    return result\n",
    "print(general_list(50))\n",
    "print(sys.getsizeof(general_list(50)))\n",
    "\n",
    "print()\n",
    "\n",
    "def generator_list(value):\n",
    "    result = []\n",
    "    for i in range(value):\n",
    "        yield i\n",
    "  \n",
    "print(generator_list(50)) #yield 때문에 생긴 것 같다. 필요할 때 출력할 수 있도록 한다.\n",
    "print([a for a in generator_list(50)])\n",
    "print(sys.getsizeof(generator_list(50)))"
   ]
  },
  {
   "cell_type": "code",
   "execution_count": 25,
   "id": "74ce731a",
   "metadata": {},
   "outputs": [
    {
     "ename": "SyntaxError",
     "evalue": "invalid syntax (<ipython-input-25-e3ce97233720>, line 10)",
     "output_type": "error",
     "traceback": [
      "\u001b[1;36m  File \u001b[1;32m\"<ipython-input-25-e3ce97233720>\"\u001b[1;36m, line \u001b[1;32m10\u001b[0m\n\u001b[1;33m    print(yield a for a in gen_ex )\u001b[0m\n\u001b[1;37m          ^\u001b[0m\n\u001b[1;31mSyntaxError\u001b[0m\u001b[1;31m:\u001b[0m invalid syntax\n"
     ]
    }
   ],
   "source": [
    "#generator comprehension\n",
    "nom_ex = [i*i for i in range(50)]\n",
    "print(type(nom_ex))\n",
    "print(nom_ex)\n",
    "print()\n",
    "gen_ex = (i*i for i in range(50))\n",
    "print(type(gen_ex))\n",
    "print(gen_ex)\n",
    "print(list(gen_ex))\n",
    "print()\n"
   ]
  }
 ],
 "metadata": {
  "kernelspec": {
   "display_name": "Python 3",
   "language": "python",
   "name": "python3"
  },
  "language_info": {
   "codemirror_mode": {
    "name": "ipython",
    "version": 3
   },
   "file_extension": ".py",
   "mimetype": "text/x-python",
   "name": "python",
   "nbconvert_exporter": "python",
   "pygments_lexer": "ipython3",
   "version": "3.9.1"
  }
 },
 "nbformat": 4,
 "nbformat_minor": 5
}
